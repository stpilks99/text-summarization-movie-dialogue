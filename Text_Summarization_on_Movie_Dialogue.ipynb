{
  "nbformat": 4,
  "nbformat_minor": 0,
  "metadata": {
    "colab": {
      "name": "Text Summarization on Movie Dialogue.ipynb",
      "provenance": [],
      "collapsed_sections": []
    },
    "kernelspec": {
      "name": "python3",
      "display_name": "Python 3"
    },
    "language_info": {
      "name": "python"
    }
  },
  "cells": [
    {
      "cell_type": "markdown",
      "source": [
        "Text Summarization on Movie Dialogue\n"
      ],
      "metadata": {
        "id": "1E49lWXbDn9o"
      }
    },
    {
      "cell_type": "markdown",
      "source": [
        "Sterling Pilkington"
      ],
      "metadata": {
        "id": "3aVUcTpvYd9e"
      }
    },
    {
      "cell_type": "markdown",
      "source": [
        "Dataset provided by: C. Danescu-Niculescu-Mizil and L. Lee, “Chameleons in imagined conversations: A new approach to understanding coordination of linguistic style in dialogs,” Jun. 2011 [Online]. Available: https://arxiv.org/abs/1106.3077"
      ],
      "metadata": {
        "id": "wFy2shhHYhmo"
      }
    },
    {
      "cell_type": "markdown",
      "source": [
        "https://www.kaggle.com/datasets/Cornell-University/movie-dialog-corpus"
      ],
      "metadata": {
        "id": "zG0LkZDcYxx8"
      }
    },
    {
      "cell_type": "code",
      "source": [
        "# import packages\n",
        "import numpy as np\n",
        "import pandas as pd\n",
        "import nltk\n",
        "import re\n",
        "import warnings\n",
        "from gensim.summarization import summarize\n",
        "nltk.download('punkt') # one time execution\n",
        "pd.set_option('display.max_colwidth',1000)\n",
        "warnings.filterwarnings('ignore')"
      ],
      "metadata": {
        "colab": {
          "base_uri": "https://localhost:8080/"
        },
        "id": "5Pha3vo5ULfR",
        "outputId": "0a5d0e26-cf60-4fdb-dec7-170371927966"
      },
      "execution_count": null,
      "outputs": [
        {
          "output_type": "stream",
          "name": "stdout",
          "text": [
            "[nltk_data] Downloading package punkt to /root/nltk_data...\n",
            "[nltk_data]   Unzipping tokenizers/punkt.zip.\n"
          ]
        }
      ]
    },
    {
      "cell_type": "markdown",
      "source": [
        "Read in lines from the tsv file (tab-separated values)"
      ],
      "metadata": {
        "id": "Fpiy6Y--D4cW"
      }
    },
    {
      "cell_type": "code",
      "source": [
        "lines = pd.read_csv('movie_lines.tsv', sep = '\\t', on_bad_lines='skip')\n",
        "lines.head()"
      ],
      "metadata": {
        "colab": {
          "base_uri": "https://localhost:8080/",
          "height": 206
        },
        "id": "xcPAXYrpWe0n",
        "outputId": "8aa14b3a-85e5-49e4-c7b4-06f9cc28cb86"
      },
      "execution_count": null,
      "outputs": [
        {
          "output_type": "execute_result",
          "data": {
            "text/plain": [
              "  lineID characterID movieID character_name          text\n",
              "0  L1045          u0      m0         BIANCA  They do not!\n",
              "1  L1044          u2      m0        CAMERON   They do to!\n",
              "2   L985          u0      m0         BIANCA    I hope so.\n",
              "3   L984          u2      m0        CAMERON     She okay?\n",
              "4   L925          u0      m0         BIANCA     Let's go."
            ],
            "text/html": [
              "\n",
              "  <div id=\"df-6bbf9ac3-8b0e-401e-aeca-851dfb67d613\">\n",
              "    <div class=\"colab-df-container\">\n",
              "      <div>\n",
              "<style scoped>\n",
              "    .dataframe tbody tr th:only-of-type {\n",
              "        vertical-align: middle;\n",
              "    }\n",
              "\n",
              "    .dataframe tbody tr th {\n",
              "        vertical-align: top;\n",
              "    }\n",
              "\n",
              "    .dataframe thead th {\n",
              "        text-align: right;\n",
              "    }\n",
              "</style>\n",
              "<table border=\"1\" class=\"dataframe\">\n",
              "  <thead>\n",
              "    <tr style=\"text-align: right;\">\n",
              "      <th></th>\n",
              "      <th>lineID</th>\n",
              "      <th>characterID</th>\n",
              "      <th>movieID</th>\n",
              "      <th>character_name</th>\n",
              "      <th>text</th>\n",
              "    </tr>\n",
              "  </thead>\n",
              "  <tbody>\n",
              "    <tr>\n",
              "      <th>0</th>\n",
              "      <td>L1045</td>\n",
              "      <td>u0</td>\n",
              "      <td>m0</td>\n",
              "      <td>BIANCA</td>\n",
              "      <td>They do not!</td>\n",
              "    </tr>\n",
              "    <tr>\n",
              "      <th>1</th>\n",
              "      <td>L1044</td>\n",
              "      <td>u2</td>\n",
              "      <td>m0</td>\n",
              "      <td>CAMERON</td>\n",
              "      <td>They do to!</td>\n",
              "    </tr>\n",
              "    <tr>\n",
              "      <th>2</th>\n",
              "      <td>L985</td>\n",
              "      <td>u0</td>\n",
              "      <td>m0</td>\n",
              "      <td>BIANCA</td>\n",
              "      <td>I hope so.</td>\n",
              "    </tr>\n",
              "    <tr>\n",
              "      <th>3</th>\n",
              "      <td>L984</td>\n",
              "      <td>u2</td>\n",
              "      <td>m0</td>\n",
              "      <td>CAMERON</td>\n",
              "      <td>She okay?</td>\n",
              "    </tr>\n",
              "    <tr>\n",
              "      <th>4</th>\n",
              "      <td>L925</td>\n",
              "      <td>u0</td>\n",
              "      <td>m0</td>\n",
              "      <td>BIANCA</td>\n",
              "      <td>Let's go.</td>\n",
              "    </tr>\n",
              "  </tbody>\n",
              "</table>\n",
              "</div>\n",
              "      <button class=\"colab-df-convert\" onclick=\"convertToInteractive('df-6bbf9ac3-8b0e-401e-aeca-851dfb67d613')\"\n",
              "              title=\"Convert this dataframe to an interactive table.\"\n",
              "              style=\"display:none;\">\n",
              "        \n",
              "  <svg xmlns=\"http://www.w3.org/2000/svg\" height=\"24px\"viewBox=\"0 0 24 24\"\n",
              "       width=\"24px\">\n",
              "    <path d=\"M0 0h24v24H0V0z\" fill=\"none\"/>\n",
              "    <path d=\"M18.56 5.44l.94 2.06.94-2.06 2.06-.94-2.06-.94-.94-2.06-.94 2.06-2.06.94zm-11 1L8.5 8.5l.94-2.06 2.06-.94-2.06-.94L8.5 2.5l-.94 2.06-2.06.94zm10 10l.94 2.06.94-2.06 2.06-.94-2.06-.94-.94-2.06-.94 2.06-2.06.94z\"/><path d=\"M17.41 7.96l-1.37-1.37c-.4-.4-.92-.59-1.43-.59-.52 0-1.04.2-1.43.59L10.3 9.45l-7.72 7.72c-.78.78-.78 2.05 0 2.83L4 21.41c.39.39.9.59 1.41.59.51 0 1.02-.2 1.41-.59l7.78-7.78 2.81-2.81c.8-.78.8-2.07 0-2.86zM5.41 20L4 18.59l7.72-7.72 1.47 1.35L5.41 20z\"/>\n",
              "  </svg>\n",
              "      </button>\n",
              "      \n",
              "  <style>\n",
              "    .colab-df-container {\n",
              "      display:flex;\n",
              "      flex-wrap:wrap;\n",
              "      gap: 12px;\n",
              "    }\n",
              "\n",
              "    .colab-df-convert {\n",
              "      background-color: #E8F0FE;\n",
              "      border: none;\n",
              "      border-radius: 50%;\n",
              "      cursor: pointer;\n",
              "      display: none;\n",
              "      fill: #1967D2;\n",
              "      height: 32px;\n",
              "      padding: 0 0 0 0;\n",
              "      width: 32px;\n",
              "    }\n",
              "\n",
              "    .colab-df-convert:hover {\n",
              "      background-color: #E2EBFA;\n",
              "      box-shadow: 0px 1px 2px rgba(60, 64, 67, 0.3), 0px 1px 3px 1px rgba(60, 64, 67, 0.15);\n",
              "      fill: #174EA6;\n",
              "    }\n",
              "\n",
              "    [theme=dark] .colab-df-convert {\n",
              "      background-color: #3B4455;\n",
              "      fill: #D2E3FC;\n",
              "    }\n",
              "\n",
              "    [theme=dark] .colab-df-convert:hover {\n",
              "      background-color: #434B5C;\n",
              "      box-shadow: 0px 1px 3px 1px rgba(0, 0, 0, 0.15);\n",
              "      filter: drop-shadow(0px 1px 2px rgba(0, 0, 0, 0.3));\n",
              "      fill: #FFFFFF;\n",
              "    }\n",
              "  </style>\n",
              "\n",
              "      <script>\n",
              "        const buttonEl =\n",
              "          document.querySelector('#df-6bbf9ac3-8b0e-401e-aeca-851dfb67d613 button.colab-df-convert');\n",
              "        buttonEl.style.display =\n",
              "          google.colab.kernel.accessAllowed ? 'block' : 'none';\n",
              "\n",
              "        async function convertToInteractive(key) {\n",
              "          const element = document.querySelector('#df-6bbf9ac3-8b0e-401e-aeca-851dfb67d613');\n",
              "          const dataTable =\n",
              "            await google.colab.kernel.invokeFunction('convertToInteractive',\n",
              "                                                     [key], {});\n",
              "          if (!dataTable) return;\n",
              "\n",
              "          const docLinkHtml = 'Like what you see? Visit the ' +\n",
              "            '<a target=\"_blank\" href=https://colab.research.google.com/notebooks/data_table.ipynb>data table notebook</a>'\n",
              "            + ' to learn more about interactive tables.';\n",
              "          element.innerHTML = '';\n",
              "          dataTable['output_type'] = 'display_data';\n",
              "          await google.colab.output.renderOutput(dataTable, element);\n",
              "          const docLink = document.createElement('div');\n",
              "          docLink.innerHTML = docLinkHtml;\n",
              "          element.appendChild(docLink);\n",
              "        }\n",
              "      </script>\n",
              "    </div>\n",
              "  </div>\n",
              "  "
            ]
          },
          "metadata": {},
          "execution_count": 2
        }
      ]
    },
    {
      "cell_type": "code",
      "source": [
        "# pick lines from only 1 movie (movie 0 --> 10 things i hate about you)\n",
        "lines_m0 = lines.loc[lines['movieID']=='m0']\n",
        "lines_m0.head()"
      ],
      "metadata": {
        "colab": {
          "base_uri": "https://localhost:8080/",
          "height": 206
        },
        "id": "yaa82Z4Xcb-d",
        "outputId": "ffe6d130-e7a3-4d57-b345-028a08fc8f00"
      },
      "execution_count": null,
      "outputs": [
        {
          "output_type": "execute_result",
          "data": {
            "text/plain": [
              "  lineID characterID movieID character_name          text\n",
              "0  L1045          u0      m0         BIANCA  They do not!\n",
              "1  L1044          u2      m0        CAMERON   They do to!\n",
              "2   L985          u0      m0         BIANCA    I hope so.\n",
              "3   L984          u2      m0        CAMERON     She okay?\n",
              "4   L925          u0      m0         BIANCA     Let's go."
            ],
            "text/html": [
              "\n",
              "  <div id=\"df-13064c69-88d6-4b4e-8f2a-611e47d01dff\">\n",
              "    <div class=\"colab-df-container\">\n",
              "      <div>\n",
              "<style scoped>\n",
              "    .dataframe tbody tr th:only-of-type {\n",
              "        vertical-align: middle;\n",
              "    }\n",
              "\n",
              "    .dataframe tbody tr th {\n",
              "        vertical-align: top;\n",
              "    }\n",
              "\n",
              "    .dataframe thead th {\n",
              "        text-align: right;\n",
              "    }\n",
              "</style>\n",
              "<table border=\"1\" class=\"dataframe\">\n",
              "  <thead>\n",
              "    <tr style=\"text-align: right;\">\n",
              "      <th></th>\n",
              "      <th>lineID</th>\n",
              "      <th>characterID</th>\n",
              "      <th>movieID</th>\n",
              "      <th>character_name</th>\n",
              "      <th>text</th>\n",
              "    </tr>\n",
              "  </thead>\n",
              "  <tbody>\n",
              "    <tr>\n",
              "      <th>0</th>\n",
              "      <td>L1045</td>\n",
              "      <td>u0</td>\n",
              "      <td>m0</td>\n",
              "      <td>BIANCA</td>\n",
              "      <td>They do not!</td>\n",
              "    </tr>\n",
              "    <tr>\n",
              "      <th>1</th>\n",
              "      <td>L1044</td>\n",
              "      <td>u2</td>\n",
              "      <td>m0</td>\n",
              "      <td>CAMERON</td>\n",
              "      <td>They do to!</td>\n",
              "    </tr>\n",
              "    <tr>\n",
              "      <th>2</th>\n",
              "      <td>L985</td>\n",
              "      <td>u0</td>\n",
              "      <td>m0</td>\n",
              "      <td>BIANCA</td>\n",
              "      <td>I hope so.</td>\n",
              "    </tr>\n",
              "    <tr>\n",
              "      <th>3</th>\n",
              "      <td>L984</td>\n",
              "      <td>u2</td>\n",
              "      <td>m0</td>\n",
              "      <td>CAMERON</td>\n",
              "      <td>She okay?</td>\n",
              "    </tr>\n",
              "    <tr>\n",
              "      <th>4</th>\n",
              "      <td>L925</td>\n",
              "      <td>u0</td>\n",
              "      <td>m0</td>\n",
              "      <td>BIANCA</td>\n",
              "      <td>Let's go.</td>\n",
              "    </tr>\n",
              "  </tbody>\n",
              "</table>\n",
              "</div>\n",
              "      <button class=\"colab-df-convert\" onclick=\"convertToInteractive('df-13064c69-88d6-4b4e-8f2a-611e47d01dff')\"\n",
              "              title=\"Convert this dataframe to an interactive table.\"\n",
              "              style=\"display:none;\">\n",
              "        \n",
              "  <svg xmlns=\"http://www.w3.org/2000/svg\" height=\"24px\"viewBox=\"0 0 24 24\"\n",
              "       width=\"24px\">\n",
              "    <path d=\"M0 0h24v24H0V0z\" fill=\"none\"/>\n",
              "    <path d=\"M18.56 5.44l.94 2.06.94-2.06 2.06-.94-2.06-.94-.94-2.06-.94 2.06-2.06.94zm-11 1L8.5 8.5l.94-2.06 2.06-.94-2.06-.94L8.5 2.5l-.94 2.06-2.06.94zm10 10l.94 2.06.94-2.06 2.06-.94-2.06-.94-.94-2.06-.94 2.06-2.06.94z\"/><path d=\"M17.41 7.96l-1.37-1.37c-.4-.4-.92-.59-1.43-.59-.52 0-1.04.2-1.43.59L10.3 9.45l-7.72 7.72c-.78.78-.78 2.05 0 2.83L4 21.41c.39.39.9.59 1.41.59.51 0 1.02-.2 1.41-.59l7.78-7.78 2.81-2.81c.8-.78.8-2.07 0-2.86zM5.41 20L4 18.59l7.72-7.72 1.47 1.35L5.41 20z\"/>\n",
              "  </svg>\n",
              "      </button>\n",
              "      \n",
              "  <style>\n",
              "    .colab-df-container {\n",
              "      display:flex;\n",
              "      flex-wrap:wrap;\n",
              "      gap: 12px;\n",
              "    }\n",
              "\n",
              "    .colab-df-convert {\n",
              "      background-color: #E8F0FE;\n",
              "      border: none;\n",
              "      border-radius: 50%;\n",
              "      cursor: pointer;\n",
              "      display: none;\n",
              "      fill: #1967D2;\n",
              "      height: 32px;\n",
              "      padding: 0 0 0 0;\n",
              "      width: 32px;\n",
              "    }\n",
              "\n",
              "    .colab-df-convert:hover {\n",
              "      background-color: #E2EBFA;\n",
              "      box-shadow: 0px 1px 2px rgba(60, 64, 67, 0.3), 0px 1px 3px 1px rgba(60, 64, 67, 0.15);\n",
              "      fill: #174EA6;\n",
              "    }\n",
              "\n",
              "    [theme=dark] .colab-df-convert {\n",
              "      background-color: #3B4455;\n",
              "      fill: #D2E3FC;\n",
              "    }\n",
              "\n",
              "    [theme=dark] .colab-df-convert:hover {\n",
              "      background-color: #434B5C;\n",
              "      box-shadow: 0px 1px 3px 1px rgba(0, 0, 0, 0.15);\n",
              "      filter: drop-shadow(0px 1px 2px rgba(0, 0, 0, 0.3));\n",
              "      fill: #FFFFFF;\n",
              "    }\n",
              "  </style>\n",
              "\n",
              "      <script>\n",
              "        const buttonEl =\n",
              "          document.querySelector('#df-13064c69-88d6-4b4e-8f2a-611e47d01dff button.colab-df-convert');\n",
              "        buttonEl.style.display =\n",
              "          google.colab.kernel.accessAllowed ? 'block' : 'none';\n",
              "\n",
              "        async function convertToInteractive(key) {\n",
              "          const element = document.querySelector('#df-13064c69-88d6-4b4e-8f2a-611e47d01dff');\n",
              "          const dataTable =\n",
              "            await google.colab.kernel.invokeFunction('convertToInteractive',\n",
              "                                                     [key], {});\n",
              "          if (!dataTable) return;\n",
              "\n",
              "          const docLinkHtml = 'Like what you see? Visit the ' +\n",
              "            '<a target=\"_blank\" href=https://colab.research.google.com/notebooks/data_table.ipynb>data table notebook</a>'\n",
              "            + ' to learn more about interactive tables.';\n",
              "          element.innerHTML = '';\n",
              "          dataTable['output_type'] = 'display_data';\n",
              "          await google.colab.output.renderOutput(dataTable, element);\n",
              "          const docLink = document.createElement('div');\n",
              "          docLink.innerHTML = docLinkHtml;\n",
              "          element.appendChild(docLink);\n",
              "        }\n",
              "      </script>\n",
              "    </div>\n",
              "  </div>\n",
              "  "
            ]
          },
          "metadata": {},
          "execution_count": 3
        }
      ]
    },
    {
      "cell_type": "code",
      "source": [
        "# looping through the lines and putting them in an array\n",
        "lines_m0_text = []\n",
        "for j in lines_m0.text:\n",
        "  lines_m0_text.append(j)"
      ],
      "metadata": {
        "id": "V0wf2NqQuW0M"
      },
      "execution_count": null,
      "outputs": []
    },
    {
      "cell_type": "code",
      "source": [
        "# function for putting the sentences in a DataFrame\n",
        "def show_sentences(text):\n",
        "  return pd.DataFrame({'Sentence': sent_tokenize(text)})\n",
        "\n",
        "# function for making lines into one long string, where input is the array of lines (such as lines_m0_text)\n",
        "def concat_lines(m):\n",
        "  lines_string = \"\"\n",
        "  x = len(m)\n",
        "  for k in range(x):\n",
        "    lines_string+=str(m[k])\n",
        "    # adding a space so they aren't jumbled together\n",
        "    lines_string+=str(\" \")\n",
        "  return lines_string"
      ],
      "metadata": {
        "id": "uQihwwUOBu_6"
      },
      "execution_count": null,
      "outputs": []
    },
    {
      "cell_type": "code",
      "source": [
        "# using the function on lines_m0_text\n",
        "lines_string = concat_lines(lines_m0_text)\n",
        "lines_string"
      ],
      "metadata": {
        "colab": {
          "base_uri": "https://localhost:8080/",
          "height": 191
        },
        "id": "lCescmExCoqz",
        "outputId": "715500dd-9c44-4790-b7ad-3e055507fef8"
      },
      "execution_count": null,
      "outputs": [
        {
          "output_type": "execute_result",
          "data": {
            "text/plain": [
              "\"They do not! They do to! I hope so. She okay? Let's go. Wow Okay -- you're gonna need to learn how to lie. No Like my fear of wearing pastels? What good stuff? I figured you'd get to the good stuff eventually. Thank God!  If I had to hear one more story about your coiffure... Me.  This endless ...blonde babble. I'm like boring myself. What crap? do you listen to this crap? No... You always been this selfish? But Then that's all you had to say. Well no... You never wanted to go out with 'me did you? I was? Tons Have fun tonight? I believe we share an art instructor You know Chastity? Looks like things worked out tonight huh? Hi. Who knows?  All I've ever heard her say is that she'd dip before dating a guy that smokes. So that's the kind of guy she likes? Pretty ones? Lesbian?  No. I found a picture of Jared Leto in one of her drawers so I'm pretty sure she's not harboring same-sex tendencies. She's not a... I'm workin' on it. But she doesn't seem to be goin' for him. I really really really wanna go but I can't.  Not unless my sister goes. Sure have. Eber's Deep Conditioner every two days. And I never ever use a blowdryer without the diffuser attachment. How do you get your hair to look like that? You're sweet. You have my word.  As a gentleman I counted on you to help my cause. You and that thug are obviously failing. Aren't we ever going on our date? You got something on your mind? Where? There. Well there's someone I think might be -- How is our little Find the Wench A Date plan progressing? Forget French. That's because it's such a nice one. I don't want to know how to say that though.  I want to know useful things. Like where the good stores are.  How much does champagne cost?  Stuff like Chat.  I have never in my life had to point out my head to someone. Right.  See?  You're ready for the quiz. C'esc ma tete. This is my head Let me see what I can do. Gosh if only we could find Kat a boyfriend... That's a shame. Unsolved mystery.  She used to be really popular when she started high school then it was just like she got sick of it or something. Why? Seems like she could get a date easy enough... The thing is Cameron -- I'm at the mercy of a particularly hideous breed of loser.  My sister.  I can't date until she does. Cameron. No no it's my fault -- we didn't have a proper introduction --- Forget it. You're asking me out.  That's so cute. What's your name again? Okay... then how 'bout we try out some French cuisine.  Saturday?  Night? Not the hacking and gagging and spitting part.  Please. Well I thought we'd start with pronunciation if that's okay with you. Can we make this quick?  Roxanne Korrine and Andrew Barrett are having an incredibly horrendous public break- up on the quad.  Again. I did. You think you ' re the only sophomore at the prom? I don't have to be home 'til two. I have to be home in twenty minutes. All I know is -- I'd give up my private line to go out with a guy like Joey. Sometimes I wonder if the guys we're supposed to want to go out with are the ones we actually want to go out with you know? Bianca I don't think the highlights of dating Joey Dorsey are going to include door-opening and coat-holding. Combination.  I don't know -- I thought he'd be different.  More of a gentleman... Is he oily or dry? He practically proposed when he found out we had the same dermatologist. I mean. Dr. Bonchowski is great an all but he's not exactly relevant party conversation. Would you mind getting me a drink Cameron? Great Joey. Who? Where did he go?  He was just here. You might wanna think about it No. Did you change your hair? You know the deal.  I can ' t go if Kat doesn't go -- Listen I want to talk to you about the prom. You're concentrating awfully hard considering it's gym class. Hi Joey. Hey sweet cheeks. My agent says I've got a good shot at being the Prada guy next year. Neat... It's a gay cruise line but I'll be like wearing a uniform and stuff. Queen Harry? Hopefully. Exactly  So you going to Bogey Lowenbrau's thing on Saturday? Expensive? It's more Perm? Patrick -- is that- a. It's just you. Is that woman a complete fruit-loop or is it just me? No! I just wanted What? To completely damage me?  To send me to therapy forever? What? I just wanted -- You set me up. Let go! So did you You looked beautiful last night you know. I guess I'll never know will I? Not all experiences are good Bianca. You can't always trust the people you want to. God you're just like him! Just keep me locked away in the dark so I can't experience anything for myself I guess I thought I was protecting you. I'm not stupid enough to repeat your mistakes. That's not No. you didn't!  If you really thought I could make my own decisions you would've let me go out with him instead of helping Daddy hold me hostage. I wanted to let you make up your own mind about him. Why didn't you tell me? But Just once.  Afterwards I told him I didn't want to anymore.  I wasn't ready. He got pissed.  Then he broke up with me. You did what? He said everyone was doing it.  So I did it. As in... Now I do.  Back then was a different story. But you hate Joey He was like a total babe Why? In 9th.  For a month What? Joey never told you we went out did he? I wish I had that luxury. I'm the only sophomore that got asked to the prom and I can't go because you won ' t. I do care. But I'm a firm believer in doing something for your own reasons not someone else ' s . Like you care. Listen I know you hate having to sit home because I'm not Susie High School. You're welcome. I don't get you.  You act like you're too good for any of this and then you go totally apeshit when you get here. I really don't think I need any social advice from you right now. Bianca I need to talk to you -- I need to tell you -- Can we go now? You are so completely unbalanced. Yeah he's your freak friend Mandella's boyfriend.  I guess since I'm not allowed to go out I should obsess over a dead guy too. It's Shakespeare.  Maybe you've heard of him? Like I'm supposed to know what that even means. At least I'm not a clouted fen- sucked hedge-pig. Can't you forget for just one night that you're completely wretched? Bogey Lowenstein's party is normal but you're too busy listening to Bitches Who Need Prozac to know that. What's normal? You're ruining my life'  Because you won't be normal I can't be normal. I think you're a freak.  I think you do this to torture me.  And I think you suck. What do you think? Oh I thought you might have a date  I don't know why I'm bothering to ask but are you going to Bogey Lowenstein's party Saturday night? It means that Gigglepuss is playing at Club Skunk and we're going. Oh my God does this mean you're becoming normal? Can you at least start wearing a bra? I have the potential to smack the crap out of you if you don't get out of my way. Nowhere... Hi Daddy. Where've you been? I have a date Daddy.  And he ' s not a captain of oppression like some men we know. I'm missing something. Fine.  I see that I'm a prisoner in my own house.  I'm not a daughter. I'm a possession! You're not going unless your sister goes.  End of story. It's that hot rod Joey right? That ' s who you want me to bend my rules for? No but The prom?  Kat has a date? Daddy I want to discuss the prom with you. It's tomorrow night -- Because she'll scare them away. Why? Promise me you won't talk to any boys unless your sister is present. Just for a minute Daddy no! Wear the belly before you go. It's just a party. Daddy. Oh God.  It's starting. If Kat's not going you're not going. Daddy people expect me to be there! Otherwise known as an orgy? If you must know we were attempting to go to a small study group of friends. And where're you going? Daddy I -- Exactly my point But she doesn't want to date. But it's not fair -- she's a mutant Daddy! Then neither will you.  And I'll get to sleep at night. What if she never starts dating? No! You're not dating until your sister starts dating.  End of discussion. Now don't get upset. Daddy but there's this boy... and I think he might ask... Just sent 'em through. Padua girls.  One tall decent body. The other one kinda short and undersexed? Never Fan of a fan.  You see a couple of minors come in? Didn't have you pegged for a Gigglepuss fan.  Aren't they a little too pre-teen belly-button ring for you? Always a pleasure Brucie. Best case scenario you're back on the payroll for awhile. You humiliated the woman! Sacrifice yourself on the altar of dignity and even the score. No I ' m not. Buttholus extremus.  But hey you're making progress. The hell is that?  What kind of 'guy just picks up a girl and carries her away while you're talking to her? Extremely unfortunate maneuver. Hell I've just been going over the whole thing in my head and - You told me that part already. It's her favorite band. Assail your ears for one night. Okay!  I wasn't sure He's pretty! Dead at forty-one. Her favorite uncle It's a lung cancer issue Number one.  She hates smokers Are you kidding?  He'll piss himself with joy.  He's the ultimate kiss ass. Will Bogey get bent? In that case we'll need to make it a school-wide blow out. This is it.  A golden opportunity. Patrick can ask Katarina to the party. Like we had a choice?  Besides -- when you let the enemy think he's orchestrating the battle you're in a position of power. We let him pretend he's calling the shots and while he's busy setting up the plan you have time to woo Bianca. You got him involved? Hey -- I've gotta have a few clients when I get to Wall Street. I thought you hated those people. You know if you do go out with Bianca you'd be set.  You'd outrank everyone. Strictly A-list.  With me by your side. That's what I just said Did she actually say she'd go out with you? Forget his reputation.  Do you think we've got a plan or not? I'm serious man he's whacked.  He sold his own liver on the black market so he could buy new speakers. They always let felons sit in on Honors Biology? No kidding.  He's a criminal.  I heard he lit a state trooper on fire.  He just got out of Alcatraz... He seems like he thrives on danger What makes you think he'll do it? You wanna go out with him? What about him? Unlikely but even so she still can't go out with you.  So what's the point? I teach her French get to know her dazzle her with charm and she falls in love with me. The mewling rampalian wretch herself. That's her?  Bianca's sister? Yeah just a minor encounter with the shrew. You could consecrate with her my friend. You mean I'd get a chance to talk to her? Guess who just signed up for a tutor? Sure do ... my Mom's from Canada You know French? Joey Dorsey?  Perma-shit-grin.  I wish I could say he's a moron but he's number twelve in the class.  And a model.  Mostly regional stuff but he's rumored to have a big tube sock ad coming out. He always have that shit-eating grin? Because they're bred to.  Their mothers liked guys like that and their grandmothers before them. Their gene pool is rarely diluted. Why do girls like that always like guys like that? I could start with your haircut but it doesn't matter.  She's not allowed to date until her older sister does.  And that's an impossibility. Why not? Bianca Stratford.  Sophomore. Don't even think about it Who is she? You burn you pine you perish? That girl -- I -- Yeah but these guys have never seen a horse.  They just jack off to Clint Eastwood. That I'm used to. Couple thousand. Most of them evil How many people go here? Get out! Thirty-two. How many people were in your old school? Yeah.  A couple.  We're outnumbered by the cows though. I was kidding. People actually live there? North actually.  How'd you   ? So -- which Dakota you from? C'mon.  I'm supposed to give you the tour. So they tell me... You the new guy? You get the girl. What's the worst? Where? She kissed me. You makin' any headway? She just needs time to cool off I'll give it a day. She hates you with the fire of a thousand suns .  That's a direct quote I don ' t know.  I decided not to nail her when she was too drunk to remember it. What'd you do to her? Then go get her Sure Cameron -- do you like the girl? She's partial to Joey not me What 're you talking about? It's off. The whole thing. Cameron I'm a little busy Don't make me do it man Gigglepuss is playing there tomorrow night. So what does that give me?  I'm supposed to buy her some noodles and a book and sit around listening to chicks who can't play their instruments? I've retrieved certain pieces of information on Miss Katarina Stratford I think you'll find helpful. What've you got for me? Yeah -- we'll see. And he means that strictly in a non- prison-movie type of way. And why would I do that? Leave my sister alone. Your sister here? Away. Where ya goin? Not at all Hey -- do you mind? They're running the rest of me next month. Yeah and I noticed the only part of you featured in your big Kmart spread was your elbow.  Tough break. The vintage look is over Kat. Haven't you been reading your Sassy? Enough with the Barbie n' Ken shit. I know. I don't know Dorsey. ..the limo.-the flowers.  Another hundred for the tux -- Get her to act like a human Do what? How'd you do it? A deal's a deal. It's about time. Forget her sister then. Forget it. A hundred bucks a date. What? I just upped my price I got her under control. She just acts crazed in public to keep up the image. Watching the bitch trash my car doesn't count as a date. I'm on it When I shell out fifty I expect results. Fifty and you've got your man. Take it or leave it.  This isn't a negotiation. Fine thirty. I can't take a girl like that out on twenty bucks. How much? I can't date her sister until that one gets a boyfriend.  And that's the catch. She doesn't want a boyfriend. You're gonna pay me to take out some girl? You got it Verona.  I pick up the tab you do the honors. But you'd go out with her if you had the cake? You need money to take a girl out You just said Sure Sparky.  I'll get right on it. Yeah whatever.  I want you to go out with her. Two legs nice rack... What do you think? Yeah Hey -- it's all for the higher good right? You better not fuck this up.  I'm heavily invested. What?  We took bathes together when we were kids. You and Verona? Uh  yeah.  We're old friend* I hear you're helpin' Verona. So what you need to do is recruit a guy who'll go out with her.  Someone who's up for the job. Does this conversation have a purpose? But she can't go out with you because her sister is this insane head case and no one will go out with her. right? We're not. Well actually I thought I'd run an idea by you.  You know just to see if you're interested. We don't chat. Nope - just came by to chat Are you lost? Hey. Oh honey -- tell me we haven't' progressed to full-on hallucinations. William - he asked me to meet him here. Who? Have you seen him? Oh good.  Something new and different for us. You ' re looking at this from the wrong perspective.  We're making a statement. Okay okay we won't go.  It's not like I have a dress anyway Listen to you!  You sound like Betty all pissed off because Archie is taking Veronica. Well I guess we're not since we don't have dates . Can you even imagine?  Who the hell would go to this a bastion of commercial excess? I got drunk.  I puked.  I got rejected. It was big fun. You didn't I did Bianca a favor and it backfired. You didn't have a choice?  Where's Kat and what have you done with her? I didn't have a choice. You went to the party?  I thought we were officially opposed to suburban social activity. Who cares? What'd he say? No fear. You think this'll work? Does it matter? I appreciate your efforts toward a speedy death but I'm consuming.  Do you mind? Neither has his heterosexuality. That's never been proven William didn't even go to high school William would never have gone to a state school. So he has this huge raging fit about Sarah Lawrence and insists that I go to his male-dominated puking frat boy number one golf team school. I have no say at all. You could always go with me.  I'm sure William has some friends. The people at this school are so incredibly foul. But imagine the things he'd say during sex. I realize that the men of this fine institution are severely lacking but killing yourself so you can be with William Shakespeare is beyond the scope of normal teenage obsessions.  You're venturing far past daytime talk show fodder and entering the world of those who need very expensive therapy. An attempted slit. What's this? Just a little. Mandella eat.  Starving yourself is a very slow way to die. Block E? He always look so I'm sure he's completely incapable of doing anything that interesting. That's Pat Verona? The one who was gone for a year? I heard he was doing porn movies. Patrick Verona   Random skid. Who's that? Don ' t you even dare. . . Oh Bianca?  Can you get me my freshman yearbook? Because I like to torture you. Why is my veggie burger the only burnt object on this grill? Yeah but then I fucked up. I fell for her. Is that right? Besides I had some extra cash. Some asshole paid me to take out a really great girl. I thought you could use it. When you start your band. A Fender Strat. You bought this? I didn't care about the money. Really?  What was it like?  A down payment now then a bonus for sleeping with me? It wasn't like that. You were paid to take me out!  By -- the one person I truly hate.  I knew it was a set-up! Wait I... It gets worse -- you still have your freshman yearbook? That ' s completely adorable! That's where I was last year.  She'd never lived alone -- my grandfather died -- I stayed with her.  I wasn't in jail I don't know Marilyn Manson and I've never slept with a Spice Girl.  I spent a year sitting next to my grandma on the couch watching Wheel of Fortune.  End of story. What? My grandmother's . Look I'm  -- sorry -- that I questioned your motives.  I was wrong. Oh huh It's just something I had.  You know It's Scurvy's.  His date got convicted. Where'd you get the dress? How'd you get a tux at the last minute? Nothing!  There's nothing in it for me. Just the pleasure of your company. Answer the question Patrick You need therapy.  Has anyone ever told you that? You tell me. So I have to have a motive to be with you? Create a little drama?  Start a new rumor?  What? Because I don't want to. It's a stupid tradition. Why not? No I won't go with you No what? No. You know what I mean Is that a request or a command? Go to the prom with me You're amazingly self-assured. Has anyone ever told you that? No one else knows What? You're sweet.  And sexy.  And completely hot for me. No -- something real.  Something no one else knows. I hate peas. Tell me something true. I know the porn career's a lie. Hearsay. The duck? Fallacy. State trooper? For. . . ? You up for it? You never disappointed me. How? Then you screwed up Something like that So if you disappoint them from the start you're covered? I don't like to do what people expect. Then they expect it all the time and they get disappointed when you change. Yes Acting the way we do. So what's your excuse? Yeah well don't let it get out A soft side? Who knew? I dazzled him with my wit So how'd you get Chapin to look the other way? Good call. I figured it had to be something ridiculous to win your respect.  And piss you off. The Partridge Family? Maybe. You want me to climb up and show you how to get down? Forget it.  I'm stayin'. Put your right foot there -- Try lookin' at it from this angle C'mon.  It's not that bad I guess I never told you I'm afraid of heights. Look up sunshine He left!  I sprung the dickhead and he cruised on me. Other than my upchuck reflex? Nothing. So what did I have an effect on ? Don't for one minute think that you had any effect whatsoever on my panties. Unwelcome?  I guess someone still has her panties in a twist. Unwelcome. Wholesome. Pleasant? You 're so -- I heard there was a poetry reading. What are you doing here? Excuse me have you seen The Feminine Mystique?  I lost my copy. No offense but you're sister is without.  I know everyone likes her and all but ... BIANCA Who? He just wants me to be someone I'm not. So what ' s up with your dad?  He a pain in the ass? I'm gettin' there Oh so now you think you know me? You don't strike me as the type that would ask permission. My father wouldn't approve of that that Start a band? This. Do what? I should do this. Why'd you lie? Then why'd you ask? No you weren't Maybe. Were you in jail? Busy When you were gone last year -- where were you? But it's Gigglepuss - I know you like them.  I saw you there. And I'm in control of it. What? Kat! Wake up! You know what they say I thought you were above all that I know.  It'd have to be a pretty big deal to get you to mainline tequila. You don't seem like the type. I hate him. Dorsey. Who? Why'd you let him get to you? Just let me sit down. See that?  Who needs affection when I've got blind hatred? Like you could find one Because then I'd have to start taking out girls who like me. Why? Sure I do You don't care if I die I told you Why 're you doing this? Leave it to you to use big words when you're shitfaced. This is so patronizing. What if you have a concussion? My dog went to sleep with a concussion and woke up a vegetable. Not that I could tell the difference... I know just let me sleep Uh uh. You lie down and you'll go to sleep I just need to lie down for awhile You're not okay. I'm fine. I'm Okay? Funny you're the only one I say do what you wanna do. What's this? Why don't you? You know who The Raincoats are? You know these guys are no Bikini Kill or The Raincoats but they're right up there. Do you mind?  You're sort of ruining it for me. That's what you want isn't it? Excuse me? nan hey.  Great show huh? Depends on the topic. My fenders don't really whip me into a verbal frenzy. You're not a big talker are you? Hi I was in the laundromat. I saw your car. Thought I'd say hi. Are you following me? Seven-thirty? You -- covered in my vomit. Come on -- the ponies the flat beer you with money in your eyes me with my hand on your ass... And why would I do that? Then say you'll spend Dollar Night at the track with me. I don't really think you warrant that strong an emotion. You hate me don't you? I know a lot more than that Like where?  The 7-Eleven on Burnside? Do you even know my name screwboy? The night I take you to places you've never been before.  And back. Oh right.  Friday. Pick you up Friday then My mission in life. There's a way to get a guy's attention. Sweating like a pig actually.  And yourself? I mean Wo-man.  How ya doin'? Oh Christ.  Don't tell me you've changed your mind.  I already sent 'em a check. When I go? You know fathers don't like to admit that their daughters are capable of running their own lives.  It means we've become spectators.  Bianca still lets me play a few innings.  You've had me on the bleachers for years.  When you go to Sarah Lawrence I won't even be able to watch the game. No -- impressed. What's the matter?  Upset that I rubbed off on her? Bianca did what? The part where Bianca beat the hell out of some guy. Which parts? Parts of it. So tell me about this dance. Was it fun? No Daddy. I don't understand the allure of dehydrated food.  Is this something I should be hip to? Funny. Yeah.  She left with some bikers Big ones.  Full of sperm. Was that your sister? I want to go to an East Coast school! I want you to trust me to make my own choices.  I want -- You're eighteen.  You don't know what you want.  You won't know until you're forty-five and you don't have it. So what I want doesn't matter? As a parent that's my right Because you're making decisions for me. Why can't we agree on this? I thought you were punishing me. Is this about Sarah Lawrence? You punishing me? Then tell them I had a seizure. My insurance does not cover PMS Enough! This from someone whose diary is devoted to favorite grooming tips? You decided. I thought we decided you were going to school here.  At U of 0. I know. Just smack her now. Am I supposed to feel better? Like right now?  Or do I have some time to think about it? Tempestuous? The point is Kat -- people perceive you as somewhat ... I still maintain that he kicked himself in the balls.  I was merely a spectator. Well yes compared to your other choices of expression this year today's events are quite mild.  By the way Bobby Rictor's gonad retrieval operation went quite well in case you're interested. Expressing my opinion is not a terrorist action. Katarina Stratford.  My my.  You've been terrorizing Ms. Blaise again. Yeah... Kat a fan too? Right. Macbeth right? Oh yeah. You think? Yeah.  I guess. Cool pictures.  You a fan? Hi. Hey there.  Tired of breathing? Man -- don't say shit like that to  me. People can hear you. Sweet love renew thy force! You were right. She's still pissed. No - I've got a sweet-payin' job that I'm about to lose. So you got cozy with she who stings? I'm likin' you guys better I prefer to think of it simply as an alternative to what the law allows. Yeah. Ever been to Club Skunk? Just for now. Good enough. What?! We're your guys. You two are gonna help me tame the wild beast? Patrick Pat you're not looking at the big picture.  Joey's just a pawn. We set this whole thing up so Cameron can get the girl. So Dorsey can get the girl? That's where we can help you.  With Kat. Dorsey can plow whoever he wants. I'm just in this for the cash. I think I speak correctly when I say that Cameron's love is pure.  Purer than say -- Joey Dorsey's. What is it with this chick?  She have three tits? The situation is my man Cameron here has a major jones for Bianca Stratford. What plan? Whatever the hell it is you're standin' there waitin' to say. What? Say it See you next week! You're completely demented. Well you know -- there's the prestige of the job title... and the benefits package is pretty good... You weren't abused you aren't stupid and as far as I can tell you're only slightly psychotic -- so why is it that you're such a fuck-up? What's to discuss? Why don't we discuss your driving need to be a hemorrhoid? I'm at a loss then.  What should we talk about? Your year of absence? Touch of the flu. I don't understand Patrick.  You haven't done anything asinine this week. Are you not feeling well? With the teeth of your zipper? It was a bratwurst.  I was eating lunch. It says here you exposed yourself to a group of freshmen girls. I missed you. That ' s what I thought Absolutely not. Did I have anything to say about it? Your daughters went to the prom. What just happened? But -- who -- what --? Have a great time honey! Dr. Ruth? What do you wanna watch?  We've got crap crap crap or crap Kissing?  Is that what you think happens?  Kissing isn't what keeps me up to my elbows in placenta all day. They'll dance they'll kiss they'll come home.  Let her go. Pirate -- no question. Would you rather be ravished by a pirate or a British rear admiral? You're not helping. Tumescent! Jesus!  Can a man even grab a sandwich before you women start dilating? Sarah Lawrence is on the other side of the country. What's a synonym for throbbing? Make anyone cry today? In the microwave. \""
            ],
            "application/vnd.google.colaboratory.intrinsic+json": {
              "type": "string"
            }
          },
          "metadata": {},
          "execution_count": 6
        }
      ]
    },
    {
      "cell_type": "code",
      "source": [
        "# show a summary of the movie script\n",
        "# ratio is the proportion of the original text to return in the summary\n",
        "# trying it with a 100-word limit\n",
        "summary = summarize(lines_string, ratio = 0.1, word_count = 100)\n",
        "summary"
      ],
      "metadata": {
        "colab": {
          "base_uri": "https://localhost:8080/",
          "height": 105
        },
        "id": "qW_LSGHiApDj",
        "outputId": "8836ac44-241e-4e03-b530-96839c031880"
      },
      "execution_count": null,
      "outputs": [
        {
          "output_type": "execute_result",
          "data": {
            "text/plain": [
              "\"She used to be really popular when she started high school then it was just like she got sick of it or something.\\nAll I know is -- I'd give up my private line to go out with a guy like Joey.\\nBianca I don't think the highlights of dating Joey Dorsey are going to include door-opening and coat-holding.\\nLike I'm supposed to know what that even means.\\nOh I thought you might have a date  I don't know why I'm bothering to ask but are you going to Bogey Lowenstein's party Saturday night?\\nI know everyone likes her and all but ...\""
            ],
            "application/vnd.google.colaboratory.intrinsic+json": {
              "type": "string"
            }
          },
          "metadata": {},
          "execution_count": 7
        }
      ]
    },
    {
      "cell_type": "markdown",
      "source": [
        "Let's try it on another movie"
      ],
      "metadata": {
        "id": "c8aqX9stDdjS"
      }
    },
    {
      "cell_type": "code",
      "source": [
        "# trying on another movie (indiana jones and the temple of doom\t1984)\n",
        "lines_m99 = lines.loc[lines['movieID']=='m99']\n",
        "lines_m99.head()"
      ],
      "metadata": {
        "colab": {
          "base_uri": "https://localhost:8080/",
          "height": 337
        },
        "id": "qLdIt2r6BPVY",
        "outputId": "66a8dd6e-6228-440b-fd3b-a3c0bce819e6"
      },
      "execution_count": null,
      "outputs": [
        {
          "output_type": "execute_result",
          "data": {
            "text/plain": [
              "        lineID characterID movieID   character_name  \\\n",
              "48267  L300572       u1461     m99  CAPT. BLUMBURTT   \n",
              "48268  L300571       u1462     m99      CHATTAR LAL   \n",
              "48269  L300570       u1461     m99  CAPT. BLUMBURTT   \n",
              "48270  L300343       u1461     m99  CAPT. BLUMBURTT   \n",
              "48271  L300342       u1462     m99      CHATTAR LAL   \n",
              "\n",
              "                                                                                                                                                              text  \n",
              "48267                                                                                                       As I said before we'd be happy to escort you to Delhi.  \n",
              "48268                                                                                                             I'm sure that will please the Maharajah Captain.  \n",
              "48269                                                               Well Mr. Prime Minister my report will duly note that we found nothing unusual here in Pankot.  \n",
              "48270  Of course. The Thuggees were an obscenity that worshipped Kali with human sacrifices. The British Army wiped them out about the time of the Mutiny of 1857.  \n",
              "48271                                                                       Dr. Jones you know very well that the Thuggee cult has been dead for nearly a century.  "
            ],
            "text/html": [
              "\n",
              "  <div id=\"df-789977cd-30d2-4d0c-8703-5842f3e1d1de\">\n",
              "    <div class=\"colab-df-container\">\n",
              "      <div>\n",
              "<style scoped>\n",
              "    .dataframe tbody tr th:only-of-type {\n",
              "        vertical-align: middle;\n",
              "    }\n",
              "\n",
              "    .dataframe tbody tr th {\n",
              "        vertical-align: top;\n",
              "    }\n",
              "\n",
              "    .dataframe thead th {\n",
              "        text-align: right;\n",
              "    }\n",
              "</style>\n",
              "<table border=\"1\" class=\"dataframe\">\n",
              "  <thead>\n",
              "    <tr style=\"text-align: right;\">\n",
              "      <th></th>\n",
              "      <th>lineID</th>\n",
              "      <th>characterID</th>\n",
              "      <th>movieID</th>\n",
              "      <th>character_name</th>\n",
              "      <th>text</th>\n",
              "    </tr>\n",
              "  </thead>\n",
              "  <tbody>\n",
              "    <tr>\n",
              "      <th>48267</th>\n",
              "      <td>L300572</td>\n",
              "      <td>u1461</td>\n",
              "      <td>m99</td>\n",
              "      <td>CAPT. BLUMBURTT</td>\n",
              "      <td>As I said before we'd be happy to escort you to Delhi.</td>\n",
              "    </tr>\n",
              "    <tr>\n",
              "      <th>48268</th>\n",
              "      <td>L300571</td>\n",
              "      <td>u1462</td>\n",
              "      <td>m99</td>\n",
              "      <td>CHATTAR LAL</td>\n",
              "      <td>I'm sure that will please the Maharajah Captain.</td>\n",
              "    </tr>\n",
              "    <tr>\n",
              "      <th>48269</th>\n",
              "      <td>L300570</td>\n",
              "      <td>u1461</td>\n",
              "      <td>m99</td>\n",
              "      <td>CAPT. BLUMBURTT</td>\n",
              "      <td>Well Mr. Prime Minister my report will duly note that we found nothing unusual here in Pankot.</td>\n",
              "    </tr>\n",
              "    <tr>\n",
              "      <th>48270</th>\n",
              "      <td>L300343</td>\n",
              "      <td>u1461</td>\n",
              "      <td>m99</td>\n",
              "      <td>CAPT. BLUMBURTT</td>\n",
              "      <td>Of course. The Thuggees were an obscenity that worshipped Kali with human sacrifices. The British Army wiped them out about the time of the Mutiny of 1857.</td>\n",
              "    </tr>\n",
              "    <tr>\n",
              "      <th>48271</th>\n",
              "      <td>L300342</td>\n",
              "      <td>u1462</td>\n",
              "      <td>m99</td>\n",
              "      <td>CHATTAR LAL</td>\n",
              "      <td>Dr. Jones you know very well that the Thuggee cult has been dead for nearly a century.</td>\n",
              "    </tr>\n",
              "  </tbody>\n",
              "</table>\n",
              "</div>\n",
              "      <button class=\"colab-df-convert\" onclick=\"convertToInteractive('df-789977cd-30d2-4d0c-8703-5842f3e1d1de')\"\n",
              "              title=\"Convert this dataframe to an interactive table.\"\n",
              "              style=\"display:none;\">\n",
              "        \n",
              "  <svg xmlns=\"http://www.w3.org/2000/svg\" height=\"24px\"viewBox=\"0 0 24 24\"\n",
              "       width=\"24px\">\n",
              "    <path d=\"M0 0h24v24H0V0z\" fill=\"none\"/>\n",
              "    <path d=\"M18.56 5.44l.94 2.06.94-2.06 2.06-.94-2.06-.94-.94-2.06-.94 2.06-2.06.94zm-11 1L8.5 8.5l.94-2.06 2.06-.94-2.06-.94L8.5 2.5l-.94 2.06-2.06.94zm10 10l.94 2.06.94-2.06 2.06-.94-2.06-.94-.94-2.06-.94 2.06-2.06.94z\"/><path d=\"M17.41 7.96l-1.37-1.37c-.4-.4-.92-.59-1.43-.59-.52 0-1.04.2-1.43.59L10.3 9.45l-7.72 7.72c-.78.78-.78 2.05 0 2.83L4 21.41c.39.39.9.59 1.41.59.51 0 1.02-.2 1.41-.59l7.78-7.78 2.81-2.81c.8-.78.8-2.07 0-2.86zM5.41 20L4 18.59l7.72-7.72 1.47 1.35L5.41 20z\"/>\n",
              "  </svg>\n",
              "      </button>\n",
              "      \n",
              "  <style>\n",
              "    .colab-df-container {\n",
              "      display:flex;\n",
              "      flex-wrap:wrap;\n",
              "      gap: 12px;\n",
              "    }\n",
              "\n",
              "    .colab-df-convert {\n",
              "      background-color: #E8F0FE;\n",
              "      border: none;\n",
              "      border-radius: 50%;\n",
              "      cursor: pointer;\n",
              "      display: none;\n",
              "      fill: #1967D2;\n",
              "      height: 32px;\n",
              "      padding: 0 0 0 0;\n",
              "      width: 32px;\n",
              "    }\n",
              "\n",
              "    .colab-df-convert:hover {\n",
              "      background-color: #E2EBFA;\n",
              "      box-shadow: 0px 1px 2px rgba(60, 64, 67, 0.3), 0px 1px 3px 1px rgba(60, 64, 67, 0.15);\n",
              "      fill: #174EA6;\n",
              "    }\n",
              "\n",
              "    [theme=dark] .colab-df-convert {\n",
              "      background-color: #3B4455;\n",
              "      fill: #D2E3FC;\n",
              "    }\n",
              "\n",
              "    [theme=dark] .colab-df-convert:hover {\n",
              "      background-color: #434B5C;\n",
              "      box-shadow: 0px 1px 3px 1px rgba(0, 0, 0, 0.15);\n",
              "      filter: drop-shadow(0px 1px 2px rgba(0, 0, 0, 0.3));\n",
              "      fill: #FFFFFF;\n",
              "    }\n",
              "  </style>\n",
              "\n",
              "      <script>\n",
              "        const buttonEl =\n",
              "          document.querySelector('#df-789977cd-30d2-4d0c-8703-5842f3e1d1de button.colab-df-convert');\n",
              "        buttonEl.style.display =\n",
              "          google.colab.kernel.accessAllowed ? 'block' : 'none';\n",
              "\n",
              "        async function convertToInteractive(key) {\n",
              "          const element = document.querySelector('#df-789977cd-30d2-4d0c-8703-5842f3e1d1de');\n",
              "          const dataTable =\n",
              "            await google.colab.kernel.invokeFunction('convertToInteractive',\n",
              "                                                     [key], {});\n",
              "          if (!dataTable) return;\n",
              "\n",
              "          const docLinkHtml = 'Like what you see? Visit the ' +\n",
              "            '<a target=\"_blank\" href=https://colab.research.google.com/notebooks/data_table.ipynb>data table notebook</a>'\n",
              "            + ' to learn more about interactive tables.';\n",
              "          element.innerHTML = '';\n",
              "          dataTable['output_type'] = 'display_data';\n",
              "          await google.colab.output.renderOutput(dataTable, element);\n",
              "          const docLink = document.createElement('div');\n",
              "          docLink.innerHTML = docLinkHtml;\n",
              "          element.appendChild(docLink);\n",
              "        }\n",
              "      </script>\n",
              "    </div>\n",
              "  </div>\n",
              "  "
            ]
          },
          "metadata": {},
          "execution_count": 8
        }
      ]
    },
    {
      "cell_type": "code",
      "source": [
        "# looping through the lines and putting them in an array\n",
        "lines_m99_text = []\n",
        "for j in lines_m99.text:\n",
        "  lines_m99_text.append(j)"
      ],
      "metadata": {
        "id": "nWWwchkpDcxC"
      },
      "execution_count": null,
      "outputs": []
    },
    {
      "cell_type": "code",
      "source": [
        "lines_string = concat_lines(lines_m99_text)\n",
        "lines_string"
      ],
      "metadata": {
        "colab": {
          "base_uri": "https://localhost:8080/",
          "height": 191
        },
        "id": "QBRUfgNvFmcm",
        "outputId": "51c6a8d0-d56d-4bc6-8378-3f0755ecf43a"
      },
      "execution_count": null,
      "outputs": [
        {
          "output_type": "execute_result",
          "data": {
            "text/plain": [
              "\"As I said before we'd be happy to escort you to Delhi. I'm sure that will please the Maharajah Captain. Well Mr. Prime Minister my report will duly note that we found nothing unusual here in Pankot. Of course. The Thuggees were an obscenity that worshipped Kali with human sacrifices. The British Army wiped them out about the time of the Mutiny of 1857. Dr. Jones you know very well that the Thuggee cult has been dead for nearly a century. The British worry so about their Empire -- it makes us feel like well- cared-for children. Just a routine inspection tour. Did you discover anything in that tunnel Dr. Jones? Then she must have run out of the room and you found her. When she saw the insects she passed out cold. I carried her back to her room. She was sleeping when I re- entered the tunnel to look around. Miss Scott panicked? I've spent by life crawling around in caves and tunnels -- I shouldn't have let somebody like Willie go in there with me. Even if they were trying to scare us away a devout Hindu would never touch meat.  Makes you wonder what these people are... Rather bizarre menu wouldn't you say? Something magical. A sacred rock. I'm sure it's nothing. Just rumors.  What was it they claimed was stolen? No he's a very shrewd old boy. Power behind the throne and all that. He actually runs this whole province. The Prime Minister doesn't seem that naive. This is a different situation Dr. Jones. These people are like children. We have to lead them slowly into the twentieth century. You're hanging on better here than you did in America. Of course. Admittedly it's taken time. Britain's controlled India for almost two hundred years now. You think so? Thank God all that mumbo jumbo rubbish is disappearing. It's like the voodoo dolls of West Africa. The kryta represents your enemy -- and gives you complete power over him. Charming. No. But I am interested in the occult. And this is a kryta. Interested in local curios? It's some kind of cult! And they've got the sacred stones that Indy was searching for. Who? We found a tunnel that leads to a temple below the palace! Please come with me I'll show you! What? No -- you can't go! Something awful's happened. They've got Short Round and I think Indy's been -- Jones isn't in his room. Miss Scott -- my troops are leaving at dawn if you want us to escort you to Delhi -- Finally! I believe we're being called to dinner. What're you talking about -- I'm not a dope fiend! I saw it! I'll show you! I sense the fumes of opium in all this. Perhaps Miss Scott picked up the habit in Shanghai. I'm afraid they'll kill them! We saw horrible things down there -- they had a human sacrifice and they ripped a man's heart out! Miss Scott you're not making any sense. No? Well I guess he just hasn't met the right woman... His Highness has not yet taken a wife. Listen Mr. Lal what do you call the Maharajah's wife? Dinner? And with a prince?! My luck is changing. But look at me -- my god I've to get ready! They will escort you to your rooms now. You will be provided with fresh clothes. Tonight you will be dining with His Highness. Oh -- good. And maybe the present Maharajah is a little younger? And thinner? No no that is Uhmed Singh the present Maharajah's late father. You should have been there... The plane crash and your journey here sound -- most incredible. I remember first hearing your name when I was studying at Oxford. I am Chattar Lal Prime Minister for His Highness the Maharajah of Pankot. Hard to believe isn't it...? Kali Ma protects us now and for ever and we must pledge our devotion by worshipping her with an offering of flesh and blood! You understand what he tells us? Yes I understand. Mola Ram is telling the faithful of out victory. He says the British have left the palace which proves Kali Ma's new power. Exactly what we have here Dr. Jones. That was a misunderstanding. And didn't the Sultan of Madagascar threaten to cut your head off if you ever returned to his country? The newspapers exaggerated the incident. Dr. Jones we are all vulnerable to vicious rumors. I seem to remember that in Honduras you were accused of being a grave robber rather than a scientist. I was dubious myself at first. Then something connected -- the village's rock and the old legend of the Sankara Stones... I think that's enough of this nonsense Dr. Jones... When they lost this rock their fields and animals died. They also said their children were taken from them. There you see Captain. A rock! Sorry I thought we were just talking about folklore. Dr. Jones in our country a guest does not usually insult his host. You know the villagers also claimed that this palace stole something from them. Maybe... but how do you explain The Thuggee shrine I saw right below the palace? Their stories are just fear and folklore. Well I don't know... we came here from a small village and the peasants there told us that the Pankot Palace was growing powerful again -- because of some ancient evil. There are no stories anymore. I suppose stories of the Thuggees die hard. Yes very fine. But not all of the pieces look old. Some were carved recently and look like images used by the Thuggees to worship the goddess Kali. A very fine collection of very old pieces don't you think? I had a question Mr. Prime Minister. I was examining some of the Maharajah's artifacts. I am only his humble servant but the Maharajah usually listens to my advice. We'd appreciate it if the Maharajah would let us stay tonight. We'll be on out way in the morning. Dr. Jones? The eminent archaeologist? Lost? No we're not lost. We're on our way to Delhi. This is Miss Scott -- and Mr. Round. My name's Indiana Jones. I would say you look rather lost.  But then I cannot imagine where in the world the three of you would look at home... At last I have the ashes of my sacred ancestor! Now what about the antidote Lao. A bonus Dr. Jones. That is poison. You just drank the rest of it. What's that? Dr. Jones -- I want Nurhachi. Next time I'll cut off more than his finger. You have insulted my son. Sure I found him. Then last night I had a little trouble. Somebody tried to slit my throat. So it is true Dr. Jones? You found Nurhachi? I don't like to show off. You never told me you spoke my language Dr. Jones. Nee chin lie how ma? Lao She. Dr. Jones. What? Let up on the brake! Read you loud and clear Indy! Slow on the curves or we'll fly off the tracks! Behind you! Come one what's wrong? Why? This is Nainsukh -- from the village. They bring him here to dig in the mines. Legend says that when the stones are brought together the diamonds inside of them will glow. Why they glow like that? The village knew their rock was magic -- but they didn't know it was one of the lost Sankara Stones... What does it mean Indy? Okay Shorty... see you in the morning... I'm going to have a little -- word with Willie. Get to sleep Indy -- I stay up and keep eye on things... Yeah that's what happened... He was afraid of you. He knows a tough guy when he sees one. Indy they glow like fire and get real crazy! Then he talk in this real scary voice! No. Next time I flatten him! Did you see his eyes? You don't like him do you? That little Maharajah think he big stuff. Just a statue. What you look at Indy? That's it. Pankot Palace. Indy look! Nope you got a little surprise over there Shorty. I ride with you Indy? It's just superstition Shorty. Like a ghost story. Indy they make our plane crash? To get you here? Okay Shorty. Indy? Sure Indy -- three tickets! You me and Wu Han -- You got the tickets Short Round? Okey-doke Indy! Hold onto your potatoes! Step on it Short Round! Wow! Holy smoke! Crash landing! You're betrayed Shiva.  No the stones are mine! Mola Ram -- you're about to meet Kali -- in Hell! Give me the stones! You are in no position to give orders Dr. Jones. That's far enough! You do not believe me? You will Dr. Jones. You will become a true believer. Nobody can say you don't have a vivid imagination. They dig for the gems to support our cause. They also search for the last two stones. Soon we will have all five Sankara Stones and the Thuggees will be all powerful! That's what you've got these children -- these slaves digging for? No. They are here -- somewhere. A century ago when the British raided this temple and butchered my people a loyal priest hid the last two stones down here in the catacombs. Two are still missing. There were five stones in the beginning. Over the centuries they were dispersed by wars sold off by thieves like you... Nobody's perfect. The way I heard it you stole one of them from a small village. You were caught trying to steal the Sankara Stones. I'm sorry I don't know how I can help you here. You will find them when you find sivlalinga. They say we must pray to their evil god. We say we will not. But why would the Maharajah take this sacred stone? And it had three lines painted across it?  The lines represent the three levels of the universe. I've seen stones like the one you lost. Long ago -- before my father's father. Was the stone very smooth?  It was probably brought here from a sacred river. No. We pray to Krishna to help us find the stone. It was Krishna who made you fall from sky -- so you can got to Pankot Palace. To find sivalinga -- and bring back to us. Nobody brought us here. Our plane crashed. We were shot down by -- It is why Krishna brought you here. They came from Palace and took sivalinga from out village. What evil? The evil starts in Pankot. Then like monsoon it moves darkness over all country. I don't understand. What's happened here? It is Pankot Palace that kills my village. No. Now there is new Maharajah -- and palace is powerful again. Hasn't the Pankot palace been deserted since the Mutiny of 1857? You will go to palace there. Pankot isn't on the way to Delhi. On the way to Delhi you will stop at Pankot. It's still a long way to Delhi. Who knows what might happen. You didn't do so well yourself. Finding that stone could've gotten you all the fortune and glory you were talking about. Well you didn't get your prince and there goes your diamond. And they don't even know what it really is. The last Sankara Stone. Not quite. I guess Mola Ram got what he wanted. Yeah -- this time you're gonna help! Anymore ideas...? What above the curves?! Let her go! Our only chance is outrunning them! Go! I can't! There's got to be another way out. What're we going to do?! You know you've been nothing but trouble since I hooked up with you -- but I have to admit I'd miss you if I lost you... No... they won't kill me. I was scared to death last night when I thought they were going to kill you. Yes they believe you. So now they believe me. Yes. Indy? Did you talk to them? I don't blame you... this hasn't been what you'd call a fun vacation... I want to go home... You've got to go to sleep now. What? They think I'm insane. Tell them I'm not Indy. Please -- help me ... It's okay. You're all right now. Maybe... someday.  Not today. You're gonna get killed chasing after your damn fortune and glory! I'm not leaving without those stones. Down? Down there?! Are you crazy! I'm going down. Wait -- what're you doing? Quiet! Let's go! Let's get out of here! No... the heart's still beating! Oh my God! He ripped out his -- he killed him! It's a Thuggee ceremony. They're worshipping Kali the goddess of Death and Destruction. What is it...? Willie! Oh God it's soft -- it's moving! I am -- it looks horrible! That's it -- the release lever -- look inside! There's a hole! I found a square hole! I can't find any lever! Help me Indy! A fulcrum release lever! A what?! GET US OUT! Willie shut up and listen! There's got to be a fulcrum release! Look around! Willie open the door! GET US OUT OF HERE! There's bugs! Bugs all over! Help! Help me! I'm coming what's the rush?! Ohh! What's that?! There's stuff all over the floor! I can't see a thing! WILLIE?! Willie come here! Hurry up we're in trouble!! What?! Please -- oh please I'm going to die! Get it off! You know Willie I'll bet he's mad because they were eating his friends for dinner. Oh no -- oh no!! Gee I wouldn't want to touch an ugly critter like that! Get -- the -- bug -- off! What -- the bug? No -- don't you see -- crawling -- You're dreaming Willie. You want to make it real just knock on my door. Five minutes... you'll be back over here in five minutes... Dr. Jones? Don't catch cold. We'll see who gives in first -- I'll leave my door open. I think you're too used to getting you own way Willie... Too proud to admit you're crazy about me Dr. Jones? You want me so bad why don't you invite me? You're dying to come into my room aren't you? You're talking to an authority in that area. Primitive sexual practices? Yeah -- and nothing else.  That shock you? Wearing your jewels to bed princess? You're nice. Listen I'm taking applications -- how'd you like to be my palace slave? No -- real food. Not leftovers? I've never been so hungry in my life... Cheer up you lost your prince but dinner's on the way. Maybe he likes older women. That's the Maharajah -- that kid?! She might get away with that act here but she'd never make it in a real nightclub. I've always had a weakness for folk dancing. Yeah I wish you'd thought of this sooner... Any more complaints? You mean we have to walk the rest of the way? He said he couldn't take us any farther. He has to go sell the elephants. He's afraid of something. Just try and control yourself. Couldn't keep away huh? I'd be safer sleeping with that snake. I think you should sleep closer.  I meant for safety. You mean magical like the rock that was stolen from that village? Legend says he told Sankara to go forth and combat evil. To do that he gave him five sacred stones that had magical powers. That's Shiva? What's he giving the Priest? It's Sanskrit. It tells the story of Sankara climbing Mt. Kalisa where he met the Hindu god Shiva. What does the writing say? The drawing shows a priest named Sankara who lived centuries ago. Maybe... Is that what you're hoping to find at this palace Dr. Jones? Yeah but he's got to be dead and buried for a couple of thousand years.  Fortune and glory... Oh really? I'd like to find one of those myself. Oh that's easy -- I'm going to latch onto a good-looking incredibly rich prince. What about the future? By the way how'd you end up in Shanghai? He'll be okay. He's a good kid. Shorty's family was killed when they bombed Shanghai. He was living on the streets. I met Short Round when he tried to pick my pocket. Where'd you find your little bodyguard? I know the feeling... Thanks for nothing! I hate snakes! That's good -- you're doing fine. It's starting to let go! What's happening? Keep stroking it! Oh -- my -- god -- it's going to crush me! Pet it on the head! Go on pet it! THE WHAT?! Yes stroke it right along the maxillary and precaudal vertebrae. PET IT??!! Okay I want you to lift your hand -- and pet the snake. Just one arm! Can you move your arm? What?! Listen Willie. Do exactly what I tell you now. It's curling around me! Damn it stop talking and do something! Don't let it curl around you! It's pulling me deeper! Don't let it pull you deeper! First of all -- don't panic! What?! Uh listen -- Willie -- I got a better idea. Hurry help me out of here! What're you waiting for?! A SNAKE!! A what...? A snake! Don't worry I'm coming in! What is it? Indy! Help me! Somehow I feel safer in here. Me seduce you? Honey you're the one who took your clothes off.  I just came over to remind you that you never know what else might be in the water. Stark naked? You wish... If you're trying to seduce me Dr. Jones this is a very primitive approach. Hey Willie -- I think you better get out now. It was destined that I came here -- and the future cannot be changed... What'd he say now? Their children? And then they took their children. It's a sacred stone in a shine that's supposed to protect a village. Took what? That's more food than these people eat in a week.  They're starving too... God I am starving but I can't eat this... He said that's whey they were at river -- they were waiting for the plane to fall down. Dream -- nightmare is more like it. The old man saw it in a dream. What do you mean -- how? He told me they knew I was coming here. What'd he say? Holy cow -- India? How do you know we're in -- India... No... I'm not cut out for the kind of life you lead.  Oh no... I ripped my dress. Where are we anyway? You all right? Get over here damn it! Short Round come on grab onto me tight! Are you crazy a lift raft?! We're not sinking we're crashing! Oh yeah? I'm freezing. What do you mean tag along? From the minute you walked into that nightclub you haven't been able to keep your eyes off me. Since I was nice enough to let you tag along why don't you give your mouth a rest? Okay doll? So what're you supposed to be a lion tamer? Siam? But I'm not dressed for Siam... Siam. I'll take the extra ticket.  Where's this plane going anyway? The airport... No look out Short Round! Left left! What're we going to do?! Where're we going?! Poison never agrees with me.  Pull a right Short Round and head for the Wang Poo bridge! You don't look very good. Don't get your hopes up -- where's the antidote? Listen we just met for crissake! I'm not that kind of girl! Relax I've been giving him lessons. For crying out loud a kid's driving the car?! Who cares? Where's that diamond! Look out damn it I need that antidote! No Wu Han's an old friend I brought along.  So the game's not over. Put the antidote on the table Lao. Hey he's not a waiter... I like the service here. Willie come on! I don't appreciate being cooked like a french fry! I'm going to puke in it... What for? Give me your hat... They got no food to feed them. So they taking the elephants away to sell them. Figures... They don't cry about you. They cry about the elephants leaving. This is the first time anybody ever cried when I left. You got it! I get it! \""
            ],
            "application/vnd.google.colaboratory.intrinsic+json": {
              "type": "string"
            }
          },
          "metadata": {},
          "execution_count": 10
        }
      ]
    },
    {
      "cell_type": "code",
      "source": [
        "summary = summarize(lines_string, ratio = 0.1, word_count = 100)\n",
        "summary"
      ],
      "metadata": {
        "colab": {
          "base_uri": "https://localhost:8080/",
          "height": 105
        },
        "id": "hHZRD1LcG_jp",
        "outputId": "f3f5bd67-b9e7-49e6-c2b0-64cc74ad510c"
      },
      "execution_count": null,
      "outputs": [
        {
          "output_type": "execute_result",
          "data": {
            "text/plain": [
              "\"I've spent by life crawling around in caves and tunnels -- I shouldn't have let somebody like Willie go in there with me.\\nAnd they've got the sacred stones that Indy was searching for.\\nThey've got Short Round and I think Indy's been -- Jones isn't in his room.\\nwe came here from a small village and the peasants there told us that the Pankot Palace was growing powerful again -- because of some ancient evil.\\nThe village knew their rock was magic -- but they didn't know it was one of the lost Sankara Stones...\""
            ],
            "application/vnd.google.colaboratory.intrinsic+json": {
              "type": "string"
            }
          },
          "metadata": {},
          "execution_count": 11
        }
      ]
    },
    {
      "cell_type": "markdown",
      "source": [
        "Let's try a third movie"
      ],
      "metadata": {
        "id": "NRFb303yHXpw"
      }
    },
    {
      "cell_type": "code",
      "source": [
        "# movie 245 --> Antz 1998\n",
        "lines_m245 = lines.loc[lines['movieID']=='m245']\n",
        "\n",
        "lines_m245_text = []\n",
        "for j in lines_m245.text:\n",
        "  lines_m245_text.append(j)\n",
        "\n",
        "lines_string = concat_lines(lines_m245_text)\n",
        "summary = summarize(lines_string, ratio = 0.1, word_count = 100)\n",
        "summary"
      ],
      "metadata": {
        "colab": {
          "base_uri": "https://localhost:8080/",
          "height": 105
        },
        "id": "Nv36KTcLHDMr",
        "outputId": "f31d0ffe-ea6d-41a7-f42b-8339988e9ebb"
      },
      "execution_count": null,
      "outputs": [
        {
          "output_type": "execute_result",
          "data": {
            "text/plain": [
              "\"It looks like there's <u>two</u> million ants in here.\\nYou know you're not just workers -- you can be whatever you want to be!\\nI don't know want you to end up like the guy who used to work next to me.\\nSo...you never did tell me...what made you come out to the worker bar that night?\\nYou know they do great prosthetic antennas nowadays -- You watch yours soldier or my worker friend will beat you up!\\nWe know what makes an ant colony strong don't we?\\nWe know that no ant can be an individual.\""
            ],
            "application/vnd.google.colaboratory.intrinsic+json": {
              "type": "string"
            }
          },
          "metadata": {},
          "execution_count": 12
        }
      ]
    },
    {
      "cell_type": "markdown",
      "source": [
        "One more movie to prove that it's working ok"
      ],
      "metadata": {
        "id": "OG5wUeIOIAbT"
      }
    },
    {
      "cell_type": "code",
      "source": [
        "# movie 253 --> Back to the Future 1985\n",
        "lines_m253 = lines.loc[lines['movieID']=='m253']\n",
        "\n",
        "lines_m253_text = []\n",
        "for j in lines_m253.text:\n",
        "  lines_m253_text.append(j)\n",
        "\n",
        "lines_string = concat_lines(lines_m253_text)\n",
        "summary = summarize(lines_string, ratio = 0.1, word_count = 100)\n",
        "summary"
      ],
      "metadata": {
        "colab": {
          "base_uri": "https://localhost:8080/",
          "height": 105
        },
        "id": "XD-AScwOHjye",
        "outputId": "207fc0a2-e955-46eb-a43d-0befac942409"
      },
      "execution_count": null,
      "outputs": [
        {
          "output_type": "execute_result",
          "data": {
            "text/plain": [
              "\"Uh yeah well believe me I sure feel like I know you!\\nThanks for everything Pro. We're at one and a half miles so you're just a little over a mile from where you want to be  Wait until minus 3 minutes before you go -- that should give you plenty of time and it should be close enough to zero hour that they can't do anything to stop you.\\nIf we could get you the time machine and the power converter in the vicinity of an atomic blast we could send you back to the future.\""
            ],
            "application/vnd.google.colaboratory.intrinsic+json": {
              "type": "string"
            }
          },
          "metadata": {},
          "execution_count": 13
        }
      ]
    },
    {
      "cell_type": "markdown",
      "source": [
        "It struggled a bit with this movie, it's talking about the driving the delorian (time machine) right into the powerlines right when the lightning strikes"
      ],
      "metadata": {
        "id": "T_EUxXlEXwzU"
      }
    },
    {
      "cell_type": "markdown",
      "source": [
        "Class Demo"
      ],
      "metadata": {
        "id": "1taolojtNqHU"
      }
    },
    {
      "cell_type": "code",
      "source": [
        "# movie 117 --> Legally Blonde\n",
        "lines_m117 = lines.loc[lines['movieID']=='m117']\n",
        "\n",
        "lines_m117_text = []\n",
        "for j in lines_m117.text:\n",
        "  lines_m117_text.append(j)\n",
        "\n",
        "lines_string = concat_lines(lines_m117_text)\n",
        "summary = summarize(lines_string, ratio = 0.1, word_count = 150)\n",
        "summary"
      ],
      "metadata": {
        "id": "ErZP4mvJIudM",
        "colab": {
          "base_uri": "https://localhost:8080/",
          "height": 139
        },
        "outputId": "522a611e-50c6-4a50-e5fb-eab12a0a4144"
      },
      "execution_count": null,
      "outputs": [
        {
          "output_type": "execute_result",
          "data": {
            "text/plain": [
              "\"I'm not having an affair with Enrique -- you know a Delta Gamma would never sleep with a man who wears a thong!\\nI got out of the shower walked downstairs saw her standing over my father and called the police.\\nAnd if you in fact heard the gunshot then Brooke Windham wouldn't have had time to hide the gun before you got downstairs.\\nThe people at law school don't Warner doesn't -- I don't even think my parents take me seriously.\\nWell I don't want to look like I know what's coming...\\nNot in class -- I waited until I got to my room but yeah she can pretty much shrivel your balls -- or you know your whatevers.\\nElle believe me I never expected to be doing this but I think it's the right thing to do.\""
            ],
            "application/vnd.google.colaboratory.intrinsic+json": {
              "type": "string"
            }
          },
          "metadata": {},
          "execution_count": 18
        }
      ]
    },
    {
      "cell_type": "code",
      "source": [
        ""
      ],
      "metadata": {
        "id": "L39TwkV0J1FU"
      },
      "execution_count": null,
      "outputs": []
    }
  ]
}